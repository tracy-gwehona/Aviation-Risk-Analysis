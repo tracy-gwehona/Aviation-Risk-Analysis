{
 "cells": [
  {
   "cell_type": "markdown",
   "metadata": {},
   "source": [
    "# Aviation Accidents Data Analysis\n",
    "\n",
    "* Student name: Tracy Gwehona\n",
    "* Student pace: Full Time\n",
    "* Instructor name: Mwikali\n"
   ]
  },
  {
   "cell_type": "markdown",
   "metadata": {},
   "source": [
    "## Business Understanding"
   ]
  },
  {
   "cell_type": "markdown",
   "metadata": {},
   "source": [
    "### Overview"
   ]
  },
  {
   "cell_type": "markdown",
   "metadata": {},
   "source": [
    "The company is planning to enter into the aviation industry in order to diversify its assets, with the intention of purchasing and operating airplanes for commercial and private enterprises. This project analyzes aviation accidents data sourced from [kaggle](https://www.kaggle.com/datasets/khsamaha/aviation-accident-database-synopses) to identify airplanes with the lowest risk to the company.\n",
    "A descriptive analysis of the data such as accident frequency, severity and other factors will highlight which aircrafts pose the least safety, financial and operational risks.\n",
    "The company can use this analysis to decide which airplanes to purchase."
   ]
  },
  {
   "cell_type": "markdown",
   "metadata": {},
   "source": [
    "### Business Problem"
   ]
  },
  {
   "cell_type": "markdown",
   "metadata": {},
   "source": [
    "The company may be able to minimize the risks of safety and financial liabilities associated with the operation of an aircraft by selecting the safest and most reliable models.\n",
    "I aim to:\n",
    "1. Identify low risk airplane models.\n",
    "2. Evaluate the severity and frequency of accidents.\n",
    "3. Assess factors that contribute to accidents.\n",
    "4. Provide recommendations for selecting the best airplanes based on the data analysis results.\n",
    "\n",
    "Doing so will help the company to make informed decisions on which airplanes to purchase."
   ]
  },
  {
   "cell_type": "code",
   "execution_count": null,
   "metadata": {},
   "outputs": [],
   "source": []
  }
 ],
 "metadata": {
  "kernelspec": {
   "display_name": "Python (learn-env)",
   "language": "python",
   "name": "learn-env"
  },
  "language_info": {
   "codemirror_mode": {
    "name": "ipython",
    "version": 3
   },
   "file_extension": ".py",
   "mimetype": "text/x-python",
   "name": "python",
   "nbconvert_exporter": "python",
   "pygments_lexer": "ipython3",
   "version": "3.8.5"
  }
 },
 "nbformat": 4,
 "nbformat_minor": 2
}
